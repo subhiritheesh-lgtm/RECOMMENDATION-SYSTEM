{
 "cells": [
  {
   "cell_type": "code",
   "execution_count": 4,
   "id": "f1cddaa0-38cd-4ab6-940c-bb39c9e632d3",
   "metadata": {
    "scrolled": true
   },
   "outputs": [
    {
     "name": "stdout",
     "output_type": "stream",
     "text": [
      "✨ Welcome to Subhiksha's Movie Recommendation System ✨\n",
      "📽️ Type your favorite movie and get 5 similar suggestions!\n",
      "💡 Type 'exit' to quit anytime.\n",
      "\n"
     ]
    },
    {
     "name": "stdin",
     "output_type": "stream",
     "text": [
      "🎞️ Enter a movie you like:  Avengers\n"
     ]
    },
    {
     "name": "stdout",
     "output_type": "stream",
     "text": [
      "🔎 Finding similar movies...\n",
      "\n",
      "🍿 Here are some movies you might enjoy:\n",
      "\n",
      " 1. 🎬 The Matrix (Action Sci-Fi)\n",
      " 2. 🎬 Interstellar (Sci-Fi Drama)\n",
      " 3. 🎬 John Wick (Action Thriller)\n",
      " 4. 🎬 Titanic (Romance Drama)\n",
      " 5. 🎬 Inception (Sci-Fi Thriller)\n",
      "\n"
     ]
    },
    {
     "name": "stdin",
     "output_type": "stream",
     "text": [
      "🎞️ Enter a movie you like:  La la land\n"
     ]
    },
    {
     "name": "stdout",
     "output_type": "stream",
     "text": [
      "🔎 Finding similar movies...\n",
      "\n",
      "🍿 Here are some movies you might enjoy:\n",
      "\n",
      " 1. 🎬 The Notebook (Romance)\n",
      " 2. 🎬 Titanic (Romance Drama)\n",
      " 3. 🎬 The Matrix (Action Sci-Fi)\n",
      " 4. 🎬 John Wick (Action Thriller)\n",
      " 5. 🎬 Inception (Sci-Fi Thriller)\n",
      "\n"
     ]
    },
    {
     "name": "stdin",
     "output_type": "stream",
     "text": [
      "🎞️ Enter a movie you like:  exit\n"
     ]
    },
    {
     "name": "stdout",
     "output_type": "stream",
     "text": [
      "\n",
      "🎉 Thank you for using the recommender. See you again!\n"
     ]
    }
   ],
   "source": [
    "import pandas as pd\n",
    "import os\n",
    "import time\n",
    "from sklearn.feature_extraction.text import TfidfVectorizer\n",
    "from sklearn.metrics.pairwise import cosine_similarity\n",
    "\n",
    "# 🧠 Sample data (if no CSV found)\n",
    "movies = {\n",
    "    \"title\": [\n",
    "        \"The Matrix\", \"John Wick\", \"Titanic\", \"Inception\", \"La La Land\",\n",
    "        \"Avengers\", \"Interstellar\", \"The Notebook\"\n",
    "    ],\n",
    "    \"genre\": [\n",
    "        \"Action Sci-Fi\", \"Action Thriller\", \"Romance Drama\", \"Sci-Fi Thriller\",\n",
    "        \"Romance Musical\", \"Superhero Action\", \"Sci-Fi Drama\", \"Romance\"\n",
    "    ],\n",
    "    \"description\": [\n",
    "        \"A hacker discovers reality is a simulated world and fights machines.\",\n",
    "        \"An ex-hitman comes out of retirement to seek vengeance.\",\n",
    "        \"A love story blossoms on the ill-fated Titanic ship.\",\n",
    "        \"A thief enters dreams to steal secrets and plant ideas.\",\n",
    "        \"Struggling artists fall in love in Los Angeles.\",\n",
    "        \"Superheroes unite to save the world from Thanos.\",\n",
    "        \"Astronauts travel through a wormhole to save humanity.\",\n",
    "        \"A touching story of enduring love and lost memories.\"\n",
    "    ]\n",
    "}\n",
    "\n",
    "df = pd.DataFrame(movies)\n",
    "\n",
    "# 🎯 Combine features for TF-IDF\n",
    "df[\"combined\"] = df[\"title\"] + \" \" + df[\"genre\"] + \" \" + df[\"description\"]\n",
    "\n",
    "# 🔍 Vectorizing\n",
    "tfidf = TfidfVectorizer(stop_words=\"english\")\n",
    "tfidf_matrix = tfidf.fit_transform(df[\"combined\"])\n",
    "\n",
    "# 🔗 Cosine similarity matrix\n",
    "cosine_sim = cosine_similarity(tfidf_matrix, tfidf_matrix)\n",
    "\n",
    "# 📍 Title to index mapping\n",
    "indices = pd.Series(df.index, index=df[\"title\"].str.lower())\n",
    "\n",
    "# 🎬 Recommendation Logic\n",
    "def recommend_movies(title, top_n=5):\n",
    "    title = title.lower()\n",
    "    if title not in indices:\n",
    "        print(f\"\\n😔 Movie '{title}' not found in our database.\")\n",
    "        print(\"📌 Try another title from this list:\")\n",
    "        print(\"🗂️ \" + \", \".join(df['title'].tolist()))\n",
    "        return []\n",
    "\n",
    "    idx = indices[title]\n",
    "    sim_scores = list(enumerate(cosine_sim[idx]))\n",
    "    sim_scores = sorted(sim_scores, key=lambda x: x[1], reverse=True)[1:top_n+1]\n",
    "    movie_indices = [i[0] for i in sim_scores]\n",
    "    return df.iloc[movie_indices][[\"title\", \"genre\"]]\n",
    "\n",
    "# 🏁 Start\n",
    "print(\"✨ Welcome to Subhiksha's Movie Recommendation System ✨\")\n",
    "print(\"📽️ Type your favorite movie and get 5 similar suggestions!\")\n",
    "print(\"💡 Type 'exit' to quit anytime.\\n\")\n",
    "\n",
    "while True:\n",
    "    movie_input = input(\"🎞️ Enter a movie you like: \").strip()\n",
    "    \n",
    "    if movie_input.lower() == 'exit':\n",
    "        print(\"\\n🎉 Thank you for using the recommender. See you again!\")\n",
    "        break\n",
    "\n",
    "    print(\"🔎 Finding similar movies\", end=\"\")\n",
    "    for _ in range(3):\n",
    "        print(\".\", end=\"\", flush=True)\n",
    "        time.sleep(0.5)\n",
    "    print(\"\\n\")\n",
    "\n",
    "    results = recommend_movies(movie_input, top_n=5)\n",
    "\n",
    "    if not results.empty:\n",
    "        print(\"🍿 Here are some movies you might enjoy:\\n\")\n",
    "        for i, row in enumerate(results.itertuples(), 1):\n",
    "            print(f\" {i}. 🎬 {row.title} ({row.genre})\")\n",
    "        print()\n"
   ]
  },
  {
   "cell_type": "code",
   "execution_count": null,
   "id": "6cc3b6a3-be64-4913-b75e-4d2737c47495",
   "metadata": {},
   "outputs": [],
   "source": []
  }
 ],
 "metadata": {
  "kernelspec": {
   "display_name": "Python 3 (ipykernel)",
   "language": "python",
   "name": "python3"
  },
  "language_info": {
   "codemirror_mode": {
    "name": "ipython",
    "version": 3
   },
   "file_extension": ".py",
   "mimetype": "text/x-python",
   "name": "python",
   "nbconvert_exporter": "python",
   "pygments_lexer": "ipython3",
   "version": "3.13.5"
  }
 },
 "nbformat": 4,
 "nbformat_minor": 5
}
